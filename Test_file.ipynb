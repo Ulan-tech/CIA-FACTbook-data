{
 "cells": [
  {
   "cell_type": "markdown",
   "id": "b326f13e",
   "metadata": {},
   "source": [
    "# It is the new start of a new Era"
   ]
  },
  {
   "cell_type": "code",
   "execution_count": 3,
   "id": "56f320c2",
   "metadata": {},
   "outputs": [
    {
     "name": "stdout",
     "output_type": "stream",
     "text": [
      "It is totally new Ulan\n"
     ]
    }
   ],
   "source": [
    "def this_is_revolutionary():\n",
    "    print(\"It is totally new Ulan\")\n",
    "this_is_revolutionary()"
   ]
  }
 ],
 "metadata": {
  "kernelspec": {
   "display_name": "Python 3 (ipykernel)",
   "language": "python",
   "name": "python3"
  },
  "language_info": {
   "codemirror_mode": {
    "name": "ipython",
    "version": 3
   },
   "file_extension": ".py",
   "mimetype": "text/x-python",
   "name": "python",
   "nbconvert_exporter": "python",
   "pygments_lexer": "ipython3",
   "version": "3.9.7"
  }
 },
 "nbformat": 4,
 "nbformat_minor": 5
}
